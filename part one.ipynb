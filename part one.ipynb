{
 "cells": [
  {
   "cell_type": "code",
   "execution_count": null,
   "id": "c750a8b4",
   "metadata": {},
   "outputs": [],
   "source": [
    "1. Question: Please refer the table below to answer below questions:\n",
    "1. Refer to the above table and find the joint probability of the people who planned to purchase and actually\n",
    "placed an order.\n"
   ]
  },
  {
   "cell_type": "raw",
   "id": "5679caca",
   "metadata": {},
   "source": [
    " 1.1.find the joint probability of the people who planned to purchase and actually placed an order.\n",
    "\n",
    "\n",
    "\n",
    "sol : You observe from the above table, that 400 people planned to purchase and actually placed an order for productA is\n",
    "400 out of 2000 people.\n",
    "# FE6 is the number of people who planned and actually placed an order for product A\n",
    "FE6 = 400\n",
    "TE  = 2000\n",
    "PE7 = round(FE6 / TE,4) \n",
    "print('Joint probability of the people who planned to purchase and actually placed an order. is %1.4f' % PE7)\n",
    "Joint probability of the people who planned to purchase and actually placed an order. is 0.2000\n",
    "\n"
   ]
  },
  {
   "cell_type": "raw",
   "id": "fc988bb4",
   "metadata": {},
   "source": [
    "1.2.Find the joint probability of the people who planned to purchase and actually placed an order, given that people planned to purchase.\n",
    "\n",
    "sol: # P1 = P(Actually placed an order | Planned to purchase)\n",
    "# P2 = Planned to purchase and actually placed an order\n",
    "# P3 = Planned to purchase\n",
    "P1   = (400 / 2000 )/ (500 / 2000)\n",
    "\n",
    "print('P(Actually placed an order | Planned to purchase) is %1.4f' % P1)     \n",
    "P(Actually placed an order | Planned to purchase) is 0.8000"
   ]
  },
  {
   "cell_type": "raw",
   "id": "93381717",
   "metadata": {},
   "source": [
    "2.A LED bulb manufacturing company regularly conducts quality checks at specified periods on the products it manufactures. Historically, the failure rate for LED light bulbs that the company manufactures is 5%. Suppose a random sample of 10 LED light bulbs is selected. What is the probability that\n",
    "\n",
    "a) None of the LED bulbs are defective?\n",
    "\n",
    "b) Exactly one of the LED bulbs is defective?\n",
    "\n",
    "c) Two or fewer of the LED bulbs are defective?\n",
    "\n",
    "d) Three or more of the LED bulbs are defective\n"
   ]
  },
  {
   "cell_type": "code",
   "execution_count": 2,
   "id": "b54bef66",
   "metadata": {},
   "outputs": [],
   "source": [
    "import numpy             as np\n",
    "import pandas            as pd\n",
    "import scipy.stats       as stats\n",
    "import matplotlib.pyplot as plt"
   ]
  },
  {
   "cell_type": "code",
   "execution_count": 3,
   "id": "71a7da47",
   "metadata": {},
   "outputs": [],
   "source": [
    "p   =  0.05 # failure rate for LED light bulbs that the company manufactures is 5%\n",
    "n   =  10 # sample size\n",
    "k   =  np.arange(0,11) # An array of quantiles"
   ]
  },
  {
   "cell_type": "code",
   "execution_count": 5,
   "id": "ae5cf6b4",
   "metadata": {},
   "outputs": [
    {
     "name": "stdout",
     "output_type": "stream",
     "text": [
      "[5.98736939e-01 3.15124705e-01 7.46347985e-02 1.04750594e-02\n",
      " 9.64808106e-04 6.09352488e-05 2.67259863e-06 8.03789063e-08\n",
      " 1.58642578e-09 1.85546875e-11 9.76562500e-14]\n"
     ]
    }
   ],
   "source": [
    "binomial = stats.binom.pmf(k,n,p)\n"
   ]
  },
  {
   "cell_type": "code",
   "execution_count": 6,
   "id": "c58d5b32",
   "metadata": {},
   "outputs": [
    {
     "name": "stdout",
     "output_type": "stream",
     "text": [
      "[5.98736939e-01 3.15124705e-01 7.46347985e-02 1.04750594e-02\n",
      " 9.64808106e-04 6.09352488e-05 2.67259863e-06 8.03789063e-08\n",
      " 1.58642578e-09 1.85546875e-11 9.76562500e-14]\n"
     ]
    }
   ],
   "source": [
    "print(binomial)"
   ]
  },
  {
   "cell_type": "code",
   "execution_count": 7,
   "id": "7a18bf71",
   "metadata": {},
   "outputs": [
    {
     "name": "stdout",
     "output_type": "stream",
     "text": [
      "a) None of the LED bulbs are defective? is 0.5987\n"
     ]
    }
   ],
   "source": [
    "print('a) None of the LED bulbs are defective? is %1.4f' %binomial[0])"
   ]
  },
  {
   "cell_type": "code",
   "execution_count": 8,
   "id": "78a39861",
   "metadata": {},
   "outputs": [
    {
     "name": "stdout",
     "output_type": "stream",
     "text": [
      "b) Exactly one of the LED bulbs is defective? is 0.3151\n"
     ]
    }
   ],
   "source": [
    "print('b) Exactly one of the LED bulbs is defective? is %1.4f' %binomial[1])"
   ]
  },
  {
   "cell_type": "markdown",
   "id": "0cdddbc5",
   "metadata": {},
   "source": [
    "To answer the question c) Two or fewer of the LED bulbs are defective?\n",
    "\n",
    "we need to calculate cumulative probability of Upto Two LED bulbs being defective"
   ]
  },
  {
   "cell_type": "code",
   "execution_count": 10,
   "id": "cb6b6886",
   "metadata": {},
   "outputs": [],
   "source": [
    "cumbinomial = stats.binom.cdf(k,n,p)"
   ]
  },
  {
   "cell_type": "code",
   "execution_count": 11,
   "id": "b427f221",
   "metadata": {},
   "outputs": [
    {
     "name": "stdout",
     "output_type": "stream",
     "text": [
      "[0.59873694 0.91386164 0.98849644 0.9989715  0.99993631 0.99999725\n",
      " 0.99999992 1.         1.         1.         1.        ]\n"
     ]
    }
   ],
   "source": [
    "print(cumbinomial)"
   ]
  },
  {
   "cell_type": "code",
   "execution_count": 12,
   "id": "94a3ccce",
   "metadata": {},
   "outputs": [
    {
     "name": "stdout",
     "output_type": "stream",
     "text": [
      "c) Two or fewer of the LED bulbs are defective? is 0.9885\n"
     ]
    }
   ],
   "source": [
    "print('c) Two or fewer of the LED bulbs are defective? is %1.4f' %cumbinomial[2])\n"
   ]
  },
  {
   "cell_type": "code",
   "execution_count": 13,
   "id": "cbf4b277",
   "metadata": {},
   "outputs": [
    {
     "name": "stdout",
     "output_type": "stream",
     "text": [
      "d) Three or more of the LED bulbs are defective is 0.0115\n"
     ]
    }
   ],
   "source": [
    "P = 1- cumbinomial[2]\n",
    "print('d) Three or more of the LED bulbs are defective is %1.4f' % P)"
   ]
  },
  {
   "cell_type": "markdown",
   "id": "a7e78af2",
   "metadata": {},
   "source": [
    "plot the binomial distribution function"
   ]
  },
  {
   "cell_type": "code",
   "execution_count": 14,
   "id": "e37757d0",
   "metadata": {},
   "outputs": [
    {
     "data": {
      "image/png": "[encoded data removed]",
      "text/plain": [
       "<Figure size 432x288 with 1 Axes>"
      ]
     },
     "metadata": {
      "needs_background": "light"
     },
     "output_type": "display_data"
    }
   ],
   "source": [
    "plt.plot(k,binomial, 'o-')\n",
    "plt.title('Binomial')\n",
    "plt.xlabel('Number of Def LED bulbs')\n",
    "plt.ylabel('Prob of Defective LED bulbs')\n",
    "plt.show()"
   ]
  },
  {
   "cell_type": "raw",
   "id": "41e26051",
   "metadata": {},
   "source": [
    "3.A car salesman sells on an average 3 cars per week.\n",
    "A. Probability that in a given week he will sell some cars.\n",
    "B. Probability that in a given week he will sell 2 or more but less than 5 cars.\n",
    "C. Plot the poisson distribution function for cumulative probability of cars sold per-week vs number of cars sold perweek."
   ]
  },
  {
   "cell_type": "code",
   "execution_count": 15,
   "id": "7670b888",
   "metadata": {},
   "outputs": [],
   "source": [
    "sol: rate =  3 # which is the mean\n",
    "n    =  np.arange(0,16)\n",
    "cumpoisson = stats.poisson.cdf(n,rate)\n",
    "    "
   ]
  },
  {
   "cell_type": "code",
   "execution_count": 16,
   "id": "ee235a52",
   "metadata": {},
   "outputs": [
    {
     "data": {
      "text/plain": [
       "array([0.04978707, 0.19914827, 0.42319008, 0.64723189, 0.81526324,\n",
       "       0.91608206, 0.96649146, 0.9880955 , 0.99619701, 0.99889751,\n",
       "       0.99970766, 0.99992861, 0.99998385, 0.9999966 , 0.99999933,\n",
       "       0.99999988])"
      ]
     },
     "execution_count": 16,
     "metadata": {},
     "output_type": "execute_result"
    }
   ],
   "source": [
    "cumpoisson"
   ]
  },
  {
   "cell_type": "code",
   "execution_count": 17,
   "id": "59325bd9",
   "metadata": {},
   "outputs": [
    {
     "name": "stdout",
     "output_type": "stream",
     "text": [
      " a) Probability that the salesman sells some cars is 0.9502\n"
     ]
    }
   ],
   "source": [
    "# P = probability that the salesman sells some cars\n",
    "P   = 1 - cumpoisson[0]\n",
    "print(' a) Probability that the salesman sells some cars is %1.4f' % P)"
   ]
  },
  {
   "cell_type": "markdown",
   "id": "1f4945d9",
   "metadata": {},
   "source": [
    "b. salesman sells 2 or more but less than 5 cars"
   ]
  },
  {
   "cell_type": "code",
   "execution_count": 18,
   "id": "de8404e6",
   "metadata": {},
   "outputs": [
    {
     "name": "stdout",
     "output_type": "stream",
     "text": [
      " b) Probability that the salesman sells between 2 and 5 cars is 0.6161\n"
     ]
    }
   ],
   "source": [
    "# Let P1 be the probability that the salesman sells more than 4 cars\n",
    "P1 = cumpoisson[4] # P(X >=4)\n",
    "# Let P2 be the probability that the salesman sells more than 1 car\n",
    "P2 = cumpoisson[1] # P(X >=1)\n",
    "P = P1 - P2 # Prob. that the salesman will sell between 2 and 5 cars\n",
    "print(' b) Probability that the salesman sells between 2 and 5 cars is %1.4f' % P)"
   ]
  },
  {
   "cell_type": "markdown",
   "id": "4e8dd03e",
   "metadata": {},
   "source": [
    "Plot a poisson distribution function"
   ]
  },
  {
   "cell_type": "code",
   "execution_count": 19,
   "id": "f014240a",
   "metadata": {},
   "outputs": [
    {
     "data": {
      "image/png": "[encoded data removed]",
      "text/plain": [
       "<Figure size 432x288 with 1 Axes>"
      ]
     },
     "metadata": {
      "needs_background": "light"
     },
     "output_type": "display_data"
    }
   ],
   "source": [
    "poisson = stats.poisson.pmf(n,rate)\n",
    "plt.plot(n,poisson, 'o-')\n",
    "plt.title('Poisson')\n",
    "plt.xlabel('Number of Policies sold per week')\n",
    "plt.ylabel('Cumulative Prob of Policies sold per week')\n",
    "plt.show()"
   ]
  },
  {
   "cell_type": "raw",
   "id": "c8d27f4c",
   "metadata": {},
   "source": [
    "4. Accuracy in understanding orders for a speech based bot at a restaurant is important for the\n",
    "Company X which has designed, marketed and launched the product for a contactless delivery due to the\n",
    "COVID-19 pandemic. Recognition accuracy that measures the percentage of orders that are taken correctly is\n",
    "86.8%. Suppose that you place order with the bot and two friends of yours independently place orders with\n",
    "the same bot. Answer the following questions.\n",
    "A. What is the probability that all three orders will be recognised correctly?\n",
    "B. What is the probability that none of the three orders will be recognised correctly?\n",
    "C. What is the probability that at least two of the three orders will be recognised correctly?"
   ]
  },
  {
   "cell_type": "raw",
   "id": "0787bd83",
   "metadata": {},
   "source": [
    "sol: Because there are three orders and the probability of a correct order is 0.868.\n",
    "    Using Binomial distribution equation,\n",
    "    \n",
    "    P(X = 3|n =3, pi given = 0.868)\n",
    "    3!/ 3!(3-3)! * (0.868)^3 * (1-0.868)^3-3 = 0.6540\n",
    "    \n",
    "    Similarly\n",
    "     (X = 0) = 0.0023\n",
    "     (X = 2) = 0.2984\n",
    "    \n",
    "    Hence, P(X>=2) = P(X=2)+P(X=3) = 0.9524"
   ]
  },
  {
   "cell_type": "raw",
   "id": "3e52f41d",
   "metadata": {},
   "source": [
    "The probability that all the three orders are filled correctly is 0.6540, 65.4% The probability that none of the orders are filled correctly is 0.0023, 0.23% The probability that atleat two of the three are filled correctly is 0.9524, 95.24%"
   ]
  },
  {
   "cell_type": "raw",
   "id": "97b2398f",
   "metadata": {},
   "source": [
    "5.A group of 300 professionals sat for a competitive exam. The results show the information of\n",
    "marks obtained by them have a mean of 60 and a standard deviation of 12. The pattern of marks follows a\n",
    "normal distribution. Answer the following questions.\n",
    "A. What is the percentage of students who score more than 80.\n",
    "B. What is the percentage of students who score less than 50.\n",
    "C. What should be the distinction mark if the highest 10% of students are to be awarded distinction?"
   ]
  },
  {
   "cell_type": "raw",
   "id": "4404bb0f",
   "metadata": {},
   "source": [
    "A)\n",
    "Z = (x - µ)/σ \n",
    "(80 -60)/12 =1.67 \n",
    "proportions of students who score more than 1.67 is\n",
    "= 0.5 - 0.4525 = 0.0475 (the  cumulative from mean probability and percentile for 1.67 z score is 0.4525 )\n",
    "That is 4.75% of students have scored more than 80"
   ]
  },
  {
   "cell_type": "raw",
   "id": "15b1a8db",
   "metadata": {},
   "source": [
    "B) similarly (50 - 60)/12 = -0.8333. Applying the property of symmetry, the area upto -0.8333 is same as area more \n",
    "than 0.8333 in the positive side. As before, it is = 0.5 - area between 0 and 0.8333 =  0.5 - 0.2967 = 0.2033. That is\n",
    "20.33% of students scored below 50"
   ]
  },
  {
   "cell_type": "raw",
   "id": "1a363ca3",
   "metadata": {},
   "source": [
    "c) Z = (x-60)/12. Here look at the normal tabel in inverse manner. That is the value of Z, the area between 0 and\n",
    "z = 0.40. this is to be seen from teh table.\n",
    " The Z value that will make the area =  0.40 is = 1.28. But z= (x - 60)/12. Hence (x-60)/12 = 1.28 Simplifying, x= 75.36\n",
    "This is the distinction mark that will be scored by 10% of the students."
   ]
  },
  {
   "cell_type": "raw",
   "id": "a42d99ca",
   "metadata": {},
   "source": [
    "6.Explain 1 real life industry scenario [other than the ones mentioned above] where you can use the\n",
    "concepts learnt in this module of Applied statistics to get a data driven business solution.\n",
    "\n",
    "sol : e-commerce sites typically use data to drive profits and sales.when u shop using e commerce site you will recieve a product recommendation which inturn is used by company to generate more revenue predict future trendsand produce actionable insights"
   ]
  }
 ],
 "metadata": {
  "kernelspec": {
   "display_name": "Python 3",
   "language": "python",
   "name": "python3"
  },
  "language_info": {
   "codemirror_mode": {
    "name": "ipython",
    "version": 3
   },
   "file_extension": ".py",
   "mimetype": "text/x-python",
   "name": "python",
   "nbconvert_exporter": "python",
   "pygments_lexer": "ipython3",
   "version": "3.8.8"
  }
 },
 "nbformat": 4,
 "nbformat_minor": 5
}
